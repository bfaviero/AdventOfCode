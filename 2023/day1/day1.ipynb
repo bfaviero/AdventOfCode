{
 "cells": [
  {
   "cell_type": "code",
   "execution_count": 20,
   "id": "eb24cadb",
   "metadata": {},
   "outputs": [],
   "source": [
    "# Part 1"
   ]
  },
  {
   "cell_type": "code",
   "execution_count": 2,
   "id": "dbbee2ce",
   "metadata": {},
   "outputs": [],
   "source": [
    "file_path = 'input.txt'\n",
    "with open(file_path, 'r') as file:\n",
    "    input_text = file.read().strip()\n",
    "lines = input_text.split(\"\\n\")"
   ]
  },
  {
   "cell_type": "code",
   "execution_count": 3,
   "id": "3c42804b",
   "metadata": {},
   "outputs": [
    {
     "name": "stdout",
     "output_type": "stream",
     "text": [
      "54304\n"
     ]
    }
   ],
   "source": [
    "def calibrate_line(line):\n",
    "    nums = [n for n in line if n.isnumeric()]\n",
    "    return nums[0] + nums[-1]\n",
    "\n",
    "print(sum(int(calibrate_line(line)) for line in lines))"
   ]
  },
  {
   "cell_type": "code",
   "execution_count": 22,
   "id": "d50271a7",
   "metadata": {},
   "outputs": [],
   "source": [
    "# Part 2"
   ]
  },
  {
   "cell_type": "code",
   "execution_count": 4,
   "id": "3b0c1cf3",
   "metadata": {},
   "outputs": [],
   "source": [
    "example2 = \"\"\"two1nine\n",
    "eightwothree\n",
    "abcone2threexyz\n",
    "xtwone3four\n",
    "4nineeightseven2\n",
    "zoneight234\n",
    "7pqrstsixteen\"\"\"\n",
    "example2_lines = example2.split(\"\\n\")"
   ]
  },
  {
   "cell_type": "code",
   "execution_count": 5,
   "id": "b20d0112",
   "metadata": {},
   "outputs": [],
   "source": [
    "digit_words = {\n",
    "    'zero': '0',\n",
    "    'one': '1',\n",
    "    'two': '2',\n",
    "    'three': '3',\n",
    "    'four': '4',\n",
    "    'five': '5',\n",
    "    'six': '6',\n",
    "    'seven': '7',\n",
    "    'eight': '8',\n",
    "    'nine': '9',\n",
    "    'ten': '10'\n",
    "}"
   ]
  },
  {
   "cell_type": "code",
   "execution_count": 11,
   "id": "ed22f830",
   "metadata": {},
   "outputs": [],
   "source": [
    "def calibrate_line_fixed(line):\n",
    "    # Get Number indices\n",
    "    indices = []\n",
    "    for (i, n) in enumerate(line):\n",
    "        if n.isnumeric():\n",
    "            indices.append((n, i))\n",
    "\n",
    "    # Get Word Indices\n",
    "    word_indices = []\n",
    "    for word in digit_words.keys():\n",
    "        if word in line:\n",
    "            word_indices.append((digit_words[word], line.find(word)))\n",
    "            word_indices.append((digit_words[word], line.rfind(word)))\n",
    "    ##\n",
    "    indices = indices + word_indices\n",
    "\n",
    "    sorted_indices = sorted(indices, key=lambda tup: tup[1])\n",
    "    a = sorted_indices[0][0]\n",
    "    b = sorted_indices[-1][0]\n",
    "    return int(a+b)\n"
   ]
  },
  {
   "cell_type": "code",
   "execution_count": 13,
   "id": "6482b395",
   "metadata": {},
   "outputs": [
    {
     "data": {
      "text/plain": [
       "54418"
      ]
     },
     "execution_count": 13,
     "metadata": {},
     "output_type": "execute_result"
    }
   ],
   "source": [
    "file_path = 'day1/input.txt'\n",
    "with open(file_path, 'r') as file:\n",
    "    input_text = file.read().strip()\n",
    "lines = input_text.split(\"\\n\")\n",
    "# for line in lines:\n",
    "#     print(\"\")\n",
    "#     print(line)\n",
    "#     print(calibrate_line(line))\n",
    "sum(int(calibrate_line_fixed(line)) for line in lines)"
   ]
  },
  {
   "cell_type": "code",
   "execution_count": 8,
   "id": "47528f08",
   "metadata": {},
   "outputs": [],
   "source": [
    "# 54418"
   ]
  }
 ],
 "metadata": {
  "kernelspec": {
   "display_name": "Python 3 (ipykernel)",
   "language": "python",
   "name": "python3"
  },
  "language_info": {
   "codemirror_mode": {
    "name": "ipython",
    "version": 3
   },
   "file_extension": ".py",
   "mimetype": "text/x-python",
   "name": "python",
   "nbconvert_exporter": "python",
   "pygments_lexer": "ipython3",
   "version": "3.10.9"
  }
 },
 "nbformat": 4,
 "nbformat_minor": 5
}
