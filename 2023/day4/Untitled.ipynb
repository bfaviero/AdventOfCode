{
 "cells": [
  {
   "cell_type": "code",
   "execution_count": 1,
   "id": "575efd6c",
   "metadata": {},
   "outputs": [],
   "source": [
    "# winning | have\n",
    "# The first match makes the card worth one point \n",
    "# and each match after the first doubles the point value of that card.\n",
    "\n",
    "\"\"\"\n",
    "Score = (2**matches-1)\n",
    "\n",
    "\"\"\""
   ]
  },
  {
   "cell_type": "code",
   "execution_count": 3,
   "id": "cc36255c",
   "metadata": {},
   "outputs": [
    {
     "data": {
      "text/plain": [
       "1"
      ]
     },
     "execution_count": 3,
     "metadata": {},
     "output_type": "execute_result"
    }
   ],
   "source": [
    "2**0"
   ]
  },
  {
   "cell_type": "code",
   "execution_count": 133,
   "id": "1dbded42",
   "metadata": {},
   "outputs": [],
   "source": [
    "input_text = \"\"\"Card 1: 41 48 83 86 17 | 83 86  6 31 17  9 48 53\n",
    "Card 2: 13 32 20 16 61 | 61 30 68 82 17 32 24 19\n",
    "Card 3:  1 21 53 59 44 | 69 82 63 72 16 21 14  1\n",
    "Card 4: 41 92 73 84 69 | 59 84 76 51 58  5 54 83\n",
    "Card 5: 87 83 26 28 32 | 88 30 70 12 93 22 82 36\n",
    "Card 6: 31 18 13 56 72 | 74 77 10 23 35 67 36 11\"\"\"\n",
    "lines = input_text.split(\"\\n\")"
   ]
  },
  {
   "cell_type": "code",
   "execution_count": 185,
   "id": "7c355c2e",
   "metadata": {},
   "outputs": [],
   "source": [
    "with open(\"input.txt\") as f:\n",
    "    input_text = f.read()\n",
    "lines = [line for line in input_text.split(\"\\n\") if line]"
   ]
  },
  {
   "cell_type": "code",
   "execution_count": 42,
   "id": "da386a6e",
   "metadata": {},
   "outputs": [
    {
     "data": {
      "text/plain": [
       "1"
      ]
     },
     "execution_count": 42,
     "metadata": {},
     "output_type": "execute_result"
    }
   ],
   "source": []
  },
  {
   "cell_type": "code",
   "execution_count": 34,
   "id": "df9c4721",
   "metadata": {},
   "outputs": [
    {
     "data": {
      "text/plain": [
       "15205"
      ]
     },
     "execution_count": 34,
     "metadata": {},
     "output_type": "execute_result"
    }
   ],
   "source": [
    "# Part 1\n",
    "line = lines[0]\n",
    "\n",
    "def transform_nums(nums):\n",
    "    # transforms \"41 48 84\" into [41, 48, 84]\n",
    "    return [num.strip() for num in nums.split(\" \") if num.strip()]\n",
    "\n",
    "def get_score_for_line(line):\n",
    "    if not line:\n",
    "        return 0\n",
    "    card = line[line.find(\":\")+2:]\n",
    "    winning, have = map(transform_nums, card.split(\" | \"))\n",
    "    matches = len(set(winning).intersection(set(have)))\n",
    "    return int(2**(matches-1))\n",
    "\n",
    "sum(map(get_score_for_line, lines))"
   ]
  },
  {
   "cell_type": "code",
   "execution_count": 43,
   "id": "00ae44b3",
   "metadata": {},
   "outputs": [],
   "source": [
    "# Part 2"
   ]
  },
  {
   "cell_type": "code",
   "execution_count": 44,
   "id": "7c30907e",
   "metadata": {},
   "outputs": [],
   "source": [
    "import re\n",
    "def get_game_num(line):\n",
    "    return int(re.match(\"Card +(\\d+):\", line).groups()[0])"
   ]
  },
  {
   "cell_type": "code",
   "execution_count": 101,
   "id": "70c2dca1",
   "metadata": {},
   "outputs": [
    {
     "name": "stdout",
     "output_type": "stream",
     "text": [
      "30\n"
     ]
    }
   ],
   "source": [
    "# # Part 2\n",
    "\n",
    "# def transform_nums(nums):\n",
    "#     # transforms \"41 48 84\" into [41, 48, 84]\n",
    "#     return [num.strip() for num in nums.split(\" \") if num.strip()]\n",
    "\n",
    "# def get_score_and_matches_for_line(line):\n",
    "#     card = line[line.find(\":\")+2:]\n",
    "#     winning, have = map(transform_nums, card.split(\" | \"))\n",
    "#     matches = set(winning).intersection(set(have))\n",
    "#     return int(2**(len(matches)-1)), matches\n",
    "\n",
    "# total_score = 0\n",
    "# total_lines = 0\n",
    "# lines_to_analyze = lines[:]\n",
    "# while lines_to_analyze:\n",
    "#     line = lines_to_analyze.pop(0)\n",
    "#     total_lines += 1\n",
    "#     game_num = get_game_num(line)\n",
    "#     score, matches = get_score_and_matches_for_line(line)\n",
    "#     total_score += score\n",
    "#     for i in range(len(matches)):\n",
    "#         next_game_index = game_num + i\n",
    "#         lines_to_analyze.append(lines[next_game_index])\n",
    "# print(total_lines)"
   ]
  },
  {
   "cell_type": "code",
   "execution_count": 131,
   "id": "47092601",
   "metadata": {
    "scrolled": true
   },
   "outputs": [
    {
     "ename": "KeyboardInterrupt",
     "evalue": "",
     "output_type": "error",
     "traceback": [
      "\u001b[0;31m---------------------------------------------------------------------------\u001b[0m",
      "\u001b[0;31mKeyboardInterrupt\u001b[0m                         Traceback (most recent call last)",
      "Input \u001b[0;32mIn [131]\u001b[0m, in \u001b[0;36m<cell line: 27>\u001b[0;34m()\u001b[0m\n\u001b[1;32m     25\u001b[0m game_nums_to_analyze \u001b[38;5;241m=\u001b[39m \u001b[38;5;28mlist\u001b[39m(\u001b[38;5;28mmap\u001b[39m(get_game_num, lines))\n\u001b[1;32m     27\u001b[0m \u001b[38;5;28;01mwhile\u001b[39;00m game_nums_to_analyze:\n\u001b[0;32m---> 28\u001b[0m     game_num \u001b[38;5;241m=\u001b[39m \u001b[43mgame_nums_to_analyze\u001b[49m\u001b[38;5;241;43m.\u001b[39;49m\u001b[43mpop\u001b[49m\u001b[43m(\u001b[49m\u001b[38;5;241;43m0\u001b[39;49m\u001b[43m)\u001b[49m\n\u001b[1;32m     29\u001b[0m     line \u001b[38;5;241m=\u001b[39m lines[game_num\u001b[38;5;241m-\u001b[39m\u001b[38;5;241m1\u001b[39m]\n\u001b[1;32m     30\u001b[0m     total_lines \u001b[38;5;241m+\u001b[39m\u001b[38;5;241m=\u001b[39m \u001b[38;5;241m1\u001b[39m\n",
      "\u001b[0;31mKeyboardInterrupt\u001b[0m: "
     ]
    }
   ],
   "source": [
    "# Part 2 - optimized\n",
    "\n",
    "def transform_nums(nums):\n",
    "    # transforms \"41 48 84\" into [41, 48, 84]\n",
    "    return [num.strip() for num in nums.split(\" \") if num.strip()]\n",
    "\n",
    "score_map = {}\n",
    "\n",
    "def get_score_and_matches_for_line(line):\n",
    "    if line in score_map:\n",
    "        return score_map[line]\n",
    "    card = line[line.find(\":\")+2:]\n",
    "    winning, have = map(transform_nums, card.split(\" | \"))\n",
    "    matches = set(winning).intersection(set(have))\n",
    "    next_game_nums = [game_num + i + 1 for i in range(len(matches))]\n",
    "    \n",
    "    result = int(2**(len(matches)-1)), next_game_nums\n",
    "    score_map[line] = result\n",
    "    return result\n",
    "\n",
    "    \n",
    "\n",
    "total_score = 0\n",
    "total_lines = 0\n",
    "game_nums_to_analyze = list(map(get_game_num, lines))\n",
    "\n",
    "while game_nums_to_analyze:\n",
    "    game_num = game_nums_to_analyze.pop(0)\n",
    "    line = lines[game_num-1]\n",
    "    total_lines += 1\n",
    "    score, next_game_nums = get_score_and_matches_for_line(line)\n",
    "    game_nums_to_analyze.extend(next_game_nums)\n",
    "    total_score += score\n",
    "    \n",
    "print(total_lines)"
   ]
  },
  {
   "cell_type": "code",
   "execution_count": 187,
   "id": "c5527948",
   "metadata": {},
   "outputs": [
    {
     "data": {
      "text/plain": [
       "6189740"
      ]
     },
     "execution_count": 187,
     "metadata": {},
     "output_type": "execute_result"
    }
   ],
   "source": [
    "# Part 2 - DP\n",
    "import functools\n",
    "\n",
    "def transform_nums(nums):\n",
    "    # transforms \"41 48 84\" into [41, 48, 84]\n",
    "    return [num.strip() for num in nums.split(\" \") if num.strip()]\n",
    "\n",
    "\n",
    "@functools.cache\n",
    "def get_next_game_nums(line):\n",
    "    game_num = get_game_num(line)\n",
    "    card = line[line.find(\":\")+2:]\n",
    "    winning, have = map(transform_nums, card.split(\" | \"))\n",
    "    matches = set(winning).intersection(set(have))\n",
    "    next_game_nums = [game_num + i + 1 for i in range(len(matches))]\n",
    "    return next_game_nums\n",
    "\n",
    "@functools.cache\n",
    "def get_number_of_copies(line):\n",
    "    next_game_nums = get_next_game_nums(line)\n",
    "    if not next_game_nums:\n",
    "        return 1\n",
    "    else:\n",
    "        return sum(\n",
    "            get_number_of_copies(lines[game_num-1]) \n",
    "            for game_num in next_game_nums) + 1\n",
    "\n",
    "sum(map(get_number_of_copies, lines))"
   ]
  },
  {
   "cell_type": "code",
   "execution_count": 146,
   "id": "cd17a307",
   "metadata": {},
   "outputs": [
    {
     "data": {
      "text/plain": [
       "[189, 190, 191, 192]"
      ]
     },
     "execution_count": 146,
     "metadata": {},
     "output_type": "execute_result"
    }
   ],
   "source": []
  }
 ],
 "metadata": {
  "kernelspec": {
   "display_name": "Python 3 (ipykernel)",
   "language": "python",
   "name": "python3"
  },
  "language_info": {
   "codemirror_mode": {
    "name": "ipython",
    "version": 3
   },
   "file_extension": ".py",
   "mimetype": "text/x-python",
   "name": "python",
   "nbconvert_exporter": "python",
   "pygments_lexer": "ipython3",
   "version": "3.10.9"
  }
 },
 "nbformat": 4,
 "nbformat_minor": 5
}
