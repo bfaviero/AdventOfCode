{
 "cells": [
  {
   "cell_type": "code",
   "execution_count": 83,
   "id": "5b078ec9",
   "metadata": {},
   "outputs": [],
   "source": [
    "input_text = \"\"\"seeds: 79 14 55 13\n",
    "\n",
    "seed-to-soil map:\n",
    "50 98 2\n",
    "52 50 48\n",
    "\n",
    "soil-to-fertilizer map:\n",
    "0 15 37\n",
    "37 52 2\n",
    "39 0 15\n",
    "\n",
    "fertilizer-to-water map:\n",
    "49 53 8\n",
    "0 11 42\n",
    "42 0 7\n",
    "57 7 4\n",
    "\n",
    "water-to-light map:\n",
    "88 18 7\n",
    "18 25 70\n",
    "\n",
    "light-to-temperature map:\n",
    "45 77 23\n",
    "81 45 19\n",
    "68 64 13\n",
    "\n",
    "temperature-to-humidity map:\n",
    "0 69 1\n",
    "1 0 69\n",
    "\n",
    "humidity-to-location map:\n",
    "60 56 37\n",
    "56 93 4\"\"\"\n",
    "blocks = input_text.split(\"\\n\\n\")"
   ]
  },
  {
   "cell_type": "code",
   "execution_count": 2,
   "id": "daa508b2",
   "metadata": {},
   "outputs": [],
   "source": [
    "with open(\"input.txt\") as f:\n",
    "    input_text = f.read()\n",
    "blocks = [line for line in input_text.split(\"\\n\\n\") if line]"
   ]
  },
  {
   "cell_type": "code",
   "execution_count": 84,
   "id": "8964db5e",
   "metadata": {},
   "outputs": [],
   "source": [
    "class RangeMap():\n",
    "    def initFromLine(name, line):\n",
    "        return RangeMap(name, *map(int, range_line.split(\" \")))\n",
    "\n",
    "    def __init__(self, name, destination_num, source_num, length):\n",
    "        self.inputs = (destination_num, source_num, length)\n",
    "        self.name = name\n",
    "        self.start = source_num\n",
    "        self.end = source_num + length -1\n",
    "        self.source_delta = destination_num - source_num\n",
    "    \n",
    "    def __contains__(self, value):\n",
    "        return value >= self.start and value <= self.end\n",
    "    \n",
    "    def transform(self, value):\n",
    "        if value in self:\n",
    "            return value + self.source_delta\n",
    "        return value\n",
    "    \n",
    "    def __repr__(self):\n",
    "        return str((self.start, self.end, self.source_delta))"
   ]
  },
  {
   "cell_type": "code",
   "execution_count": null,
   "id": "9d71b8b5",
   "metadata": {},
   "outputs": [],
   "source": []
  },
  {
   "cell_type": "code",
   "execution_count": 85,
   "id": "1f04033e",
   "metadata": {},
   "outputs": [],
   "source": [
    "seed_line = blocks[0]\n",
    "seeds = list(map(int, seed_line[seed_line.find(\":\")+2:].split(\" \")))"
   ]
  },
  {
   "cell_type": "code",
   "execution_count": 86,
   "id": "b1b6f672",
   "metadata": {},
   "outputs": [],
   "source": [
    "range_map_blocks = []"
   ]
  },
  {
   "cell_type": "code",
   "execution_count": 87,
   "id": "ab77bc8e",
   "metadata": {},
   "outputs": [],
   "source": [
    "for block in blocks[1:]:\n",
    "    range_map_blocks.append(list())\n",
    "    map_name = block.split(\" map:\")[0]\n",
    "    for range_line in block.split(\"\\n\")[1:]:\n",
    "        if not range_line:\n",
    "            continue\n",
    "        range_map = RangeMap.initFromLine(map_name, range_line)\n",
    "        range_map_blocks[-1].append(range_map)"
   ]
  },
  {
   "cell_type": "code",
   "execution_count": 88,
   "id": "921a2bd0",
   "metadata": {},
   "outputs": [
    {
     "data": {
      "text/plain": [
       "35"
      ]
     },
     "execution_count": 88,
     "metadata": {},
     "output_type": "execute_result"
    }
   ],
   "source": [
    "import functools  \n",
    "\n",
    "def get_value_for_range_map(range_map, value):\n",
    "    if value in range_map:\n",
    "        value = range_map.transform(value)\n",
    "        return (True, value)\n",
    "    return False, value\n",
    "\n",
    "def get_location_for_seed(value):\n",
    "    for range_map_block in range_map_blocks:\n",
    "        for range_map in range_map_block:\n",
    "            matched, value = get_value_for_range_map(range_map, value)\n",
    "            if matched:\n",
    "                break\n",
    "    return value\n",
    "\n",
    "min(list(map(get_location_for_seed, seeds)))"
   ]
  },
  {
   "cell_type": "code",
   "execution_count": 89,
   "id": "f30e1ef2",
   "metadata": {
    "scrolled": true
   },
   "outputs": [],
   "source": [
    "minloc = float('inf')\n",
    "min_seed = 0\n",
    "for i in range(0, len(seeds), 2):\n",
    "    start, length = (seeds[i], seeds[i+1])\n",
    "    for seed in range(start, start + length, 100001):\n",
    "        loc = get_location_for_seed(seed)\n",
    "        if loc < minloc:\n",
    "            min_seed = seed\n",
    "            minloc = loc\n",
    "print(minloc)\n",
    "print(min_seed)"
   ]
  },
  {
   "cell_type": "code",
   "execution_count": 128,
   "id": "f80452e1",
   "metadata": {
    "scrolled": false
   },
   "outputs": [],
   "source": [
    "# class Range():\n",
    "#     def __init__(self, start, end):\n",
    "#         self.start = start\n",
    "#         self.end = end\n",
    "    \n",
    "#     def __repr__(self):\n",
    "#         return str((self.start, self.end))\n",
    "    \n",
    "# for block in reversed(range_map_blocks):\n",
    "#     start_ranges = [Range(rmap.start, rmap.end) for rmap in block]\n",
    "#     start_ranges = sorted(start_ranges, key=lambda x: x.start)\n",
    "#     end_ranges = [Range(rmap.start + rmap.source_delta, rmap.end + rmap.source_delta) for rmap in block]\n",
    "#     end_ranges = sorted(end_ranges, key=lambda x: x.start)\n",
    "    \n",
    "#     r1, _, r2 = block[0].name.split(\"-\")\n",
    "#     print(end_ranges, r2)\n",
    "#     print(start_ranges, r1)\n",
    "#     print(\"\")"
   ]
  },
  {
   "cell_type": "code",
   "execution_count": 121,
   "id": "76b8f298",
   "metadata": {},
   "outputs": [
    {
     "name": "stdout",
     "output_type": "stream",
     "text": [
      "510109797 9622622\n"
     ]
    }
   ],
   "source": []
  },
  {
   "cell_type": "code",
   "execution_count": 124,
   "id": "76df71a5",
   "metadata": {},
   "outputs": [
    {
     "data": {
      "text/plain": [
       "1"
      ]
     },
     "execution_count": 124,
     "metadata": {},
     "output_type": "execute_result"
    }
   ],
   "source": []
  }
 ],
 "metadata": {
  "kernelspec": {
   "display_name": "Python 3 (ipykernel)",
   "language": "python",
   "name": "python3"
  },
  "language_info": {
   "codemirror_mode": {
    "name": "ipython",
    "version": 3
   },
   "file_extension": ".py",
   "mimetype": "text/x-python",
   "name": "python",
   "nbconvert_exporter": "python",
   "pygments_lexer": "ipython3",
   "version": "3.10.13"
  }
 },
 "nbformat": 4,
 "nbformat_minor": 5
}
