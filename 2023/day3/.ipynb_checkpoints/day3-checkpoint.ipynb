{
 "cells": [
  {
   "cell_type": "code",
   "execution_count": 263,
   "id": "880d570f",
   "metadata": {},
   "outputs": [],
   "source": [
    "# Inputs"
   ]
  },
  {
   "cell_type": "code",
   "execution_count": 264,
   "id": "a3154671",
   "metadata": {},
   "outputs": [],
   "source": [
    "input_text = \"\"\"467..114..\n",
    "...*......\n",
    "..35..633.\n",
    "......#...\n",
    "617*......\n",
    ".....+.58.\n",
    "..592.....\n",
    "......755.\n",
    "...$.*....\n",
    ".664.598..\"\"\"\n",
    "lines = input_text.split(\"\\n\")"
   ]
  },
  {
   "cell_type": "code",
   "execution_count": 293,
   "id": "58bcf557",
   "metadata": {},
   "outputs": [],
   "source": [
    "with open(\"input.txt\") as f:\n",
    "    input_text = f.read()\n",
    "lines = input_text.split(\"\\n\")"
   ]
  },
  {
   "cell_type": "code",
   "execution_count": null,
   "id": "7def0932",
   "metadata": {},
   "outputs": [],
   "source": [
    "# Part 1"
   ]
  },
  {
   "cell_type": "code",
   "execution_count": 262,
   "id": "67ac6cb9",
   "metadata": {},
   "outputs": [],
   "source": [
    "not_symbols = \"0123456789.\""
   ]
  },
  {
   "cell_type": "code",
   "execution_count": 251,
   "id": "5feb5de9",
   "metadata": {},
   "outputs": [],
   "source": [
    "def is_valid(row, col):\n",
    "    return row >=0 and row < len(lines) and col >= 0 and col < len(lines[0])\n",
    "\n",
    "def is_symbol_adjacent(row, col):\n",
    "    locations = [\n",
    "        (row+1, col),\n",
    "        (row-1, col),\n",
    "        (row, col-1),\n",
    "        (row, col+1),\n",
    "        (row-1, col-1),\n",
    "        (row-1, col+1),\n",
    "        (row+1, col-1),\n",
    "        (row+1, col+1),\n",
    "    ]\n",
    "    return any(is_valid(r, c) and lines[r][c] not in not_symbols for (r, c) in locations)"
   ]
  },
  {
   "cell_type": "code",
   "execution_count": 254,
   "id": "11314c78",
   "metadata": {},
   "outputs": [
    {
     "data": {
      "text/plain": [
       "546563"
      ]
     },
     "execution_count": 254,
     "metadata": {},
     "output_type": "execute_result"
    }
   ],
   "source": [
    "part_numbers = []\n",
    "for (row, line) in enumerate(lines):\n",
    "    current_num = \"\"\n",
    "    is_part_number = False\n",
    "    for col in range(len(line)):\n",
    "        char = line[col]\n",
    "        \n",
    "        # Build up the number\n",
    "        if char.isnumeric(): \n",
    "            current_num += char\n",
    "            if is_symbol_adjacent(row, col):\n",
    "                is_part_number = True\n",
    "        \n",
    "        # If we're done with the number, add or discard it\n",
    "        elif current_num:\n",
    "            # Reset\n",
    "            if is_part_number:\n",
    "                part_numbers.append(int(current_num))\n",
    "            current_num = \"\"\n",
    "            is_part_number = False\n",
    "\n",
    "    # Final check at the end of a new line\n",
    "    if is_part_number:\n",
    "        part_numbers.append(int(current_num))\n",
    "sum(part_numbers)"
   ]
  },
  {
   "cell_type": "code",
   "execution_count": 255,
   "id": "7dd3b252",
   "metadata": {},
   "outputs": [],
   "source": [
    "from pydash import count_by"
   ]
  },
  {
   "cell_type": "code",
   "execution_count": 294,
   "id": "1cb7752e",
   "metadata": {},
   "outputs": [
    {
     "data": {
      "text/plain": [
       "91031374"
      ]
     },
     "execution_count": 294,
     "metadata": {},
     "output_type": "execute_result"
    }
   ],
   "source": [
    "from functools import reduce\n",
    "# Part 2\n",
    "def is_valid(row, col):\n",
    "    return row >=0 and row < len(lines) and col >= 0 and col < len(lines[0])\n",
    "\n",
    "def get_gear_coords(row, col):\n",
    "    locations = [\n",
    "        (row+1, col),\n",
    "        (row-1, col),\n",
    "        (row, col-1),\n",
    "        (row, col+1),\n",
    "        (row-1, col-1),\n",
    "        (row-1, col+1),\n",
    "        (row+1, col-1),\n",
    "        (row+1, col+1),\n",
    "    ]\n",
    "    return [(r, c) for (r, c) in locations if is_valid(r, c) and lines[r][c] == '*']\n",
    "\n",
    "\n",
    "from collections import defaultdict\n",
    "gear_nums = defaultdict(list)\n",
    "\n",
    "for (row, line) in enumerate(lines):\n",
    "    current_num = \"\"\n",
    "    gear_coords_set = set()\n",
    "    for col in range(len(line)):\n",
    "        char = line[col]\n",
    "        \n",
    "        # Build up the number\n",
    "        if char.isnumeric(): \n",
    "            current_num += char\n",
    "            gear_coords_set |= set(get_gear_coords(row, col))\n",
    "        \n",
    "        # We're done with the number\n",
    "        elif current_num:\n",
    "            # Reset\n",
    "            for coords in gear_coords_set:\n",
    "                gear_nums[coords].append(int(current_num))\n",
    "            current_num = \"\"\n",
    "            gear_coords_set = set()\n",
    "\n",
    "    #Final check at the end of a new line\n",
    "    for coords in gear_coords_set:\n",
    "        gear_nums[coords].append(int(current_num))\n",
    "\n",
    "sum(reduce(lambda x, y: x*y, nums) for nums in gear_nums.values() if len(nums) == 2)"
   ]
  }
 ],
 "metadata": {
  "kernelspec": {
   "display_name": "Python 3 (ipykernel)",
   "language": "python",
   "name": "python3"
  },
  "language_info": {
   "codemirror_mode": {
    "name": "ipython",
    "version": 3
   },
   "file_extension": ".py",
   "mimetype": "text/x-python",
   "name": "python",
   "nbconvert_exporter": "python",
   "pygments_lexer": "ipython3",
   "version": "3.10.9"
  }
 },
 "nbformat": 4,
 "nbformat_minor": 5
}
