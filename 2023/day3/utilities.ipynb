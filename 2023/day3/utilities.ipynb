{
 "cells": [
  {
   "cell_type": "code",
   "execution_count": 85,
   "id": "318ccc8b",
   "metadata": {},
   "outputs": [],
   "source": [
    "input_text = \"\"\"\n",
    "467..114.2\n",
    "...*......\n",
    "..35..633.\n",
    "......#...\n",
    "617*......\n",
    ".....+.58.\n",
    "..592.....\n",
    "......755.\n",
    "...$.*....\n",
    ".664.598..\"\"\"\n",
    "\n",
    "lines = input_text.split(\"\\n\")[1:]"
   ]
  },
  {
   "cell_type": "code",
   "execution_count": 87,
   "id": "100970bd",
   "metadata": {},
   "outputs": [],
   "source": [
    "def is_in_bounds(coords):\n",
    "    row, col = coords\n",
    "    return row >=0 and row < len(lines) and col >= 0 and col < len(lines[0])"
   ]
  },
  {
   "cell_type": "code",
   "execution_count": 97,
   "id": "a818f1be",
   "metadata": {},
   "outputs": [],
   "source": [
    "def get_adjacent_locations(coords):\n",
    "    row, col = coords\n",
    "    return [\n",
    "        (row+1, col),\n",
    "        (row-1, col),\n",
    "        (row, col-1),\n",
    "        (row, col+1),\n",
    "        (row-1, col-1),\n",
    "        (row-1, col+1),\n",
    "        (row+1, col-1),\n",
    "        (row+1, col+1),\n",
    "    ]"
   ]
  },
  {
   "cell_type": "code",
   "execution_count": 103,
   "id": "84b30e78",
   "metadata": {},
   "outputs": [
    {
     "data": {
      "text/plain": [
       "[(1, 0), (0, 1), (1, 1)]"
      ]
     },
     "execution_count": 103,
     "metadata": {},
     "output_type": "execute_result"
    }
   ],
   "source": [
    "list(filter(is_in_bounds, get_adjacent_locations((0, 0))))"
   ]
  },
  {
   "cell_type": "code",
   "execution_count": 86,
   "id": "15a4a406",
   "metadata": {},
   "outputs": [],
   "source": [
    "# def get_adjacent_locations(coords, in_bounds_only=True, include_self=False):\n",
    "#     row, col = coords\n",
    "#     points = []\n",
    "#     for row_delta in [-1, 0, 1]:\n",
    "#         for col_delta in [-1, 0, 1]:\n",
    "#             distance = abs(row_delta) + abs(col_delta)\n",
    "#             if (not include_self) and row_delta == 0 and col_delta == 0:\n",
    "#                 continue\n",
    "#             new_point = (row + row_delta, col + col_delta)\n",
    "#             if in_bounds_only and not is_in_bounds(new_point):\n",
    "#                 continue\n",
    "#             points.append(new_point)\n",
    "#     return points\n",
    "\n",
    "def get_value(point):\n",
    "    row, col = point\n",
    "    return lines[row][col]"
   ]
  },
  {
   "cell_type": "code",
   "execution_count": 96,
   "id": "e6103b97",
   "metadata": {},
   "outputs": [
    {
     "data": {
      "text/plain": [
       "['467',\n",
       " '114',\n",
       " '2',\n",
       " '*',\n",
       " '35',\n",
       " '633',\n",
       " '#',\n",
       " '617*',\n",
       " '+',\n",
       " '58',\n",
       " '592',\n",
       " '755',\n",
       " '$',\n",
       " '*',\n",
       " '664',\n",
       " '598']"
      ]
     },
     "execution_count": 96,
     "metadata": {},
     "output_type": "execute_result"
    }
   ],
   "source": [
    "def get_words():\n",
    "    separator = \".\"\n",
    "    words = []\n",
    "    for (row, line) in enumerate(lines):\n",
    "        current_word = \"\"\n",
    "        for (col, char) in enumerate(line):\n",
    "\n",
    "            # Handle each character\n",
    "            if char != separator:\n",
    "                current_word += char\n",
    "\n",
    "            # We're done building up the word\n",
    "            elif current_word:\n",
    "                words.append(current_word)\n",
    "                current_word = \"\"\n",
    "\n",
    "        # Final check at the end of a new line\n",
    "        if current_word:\n",
    "            words.append(current_word)\n",
    "    return words\n",
    "\n",
    "get_words()"
   ]
  },
  {
   "cell_type": "code",
   "execution_count": null,
   "id": "ad491914",
   "metadata": {},
   "outputs": [],
   "source": []
  }
 ],
 "metadata": {
  "kernelspec": {
   "display_name": "Python 3 (ipykernel)",
   "language": "python",
   "name": "python3"
  },
  "language_info": {
   "codemirror_mode": {
    "name": "ipython",
    "version": 3
   },
   "file_extension": ".py",
   "mimetype": "text/x-python",
   "name": "python",
   "nbconvert_exporter": "python",
   "pygments_lexer": "ipython3",
   "version": "3.10.9"
  }
 },
 "nbformat": 4,
 "nbformat_minor": 5
}
