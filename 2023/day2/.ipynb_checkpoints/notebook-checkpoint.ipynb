{
 "cells": [
  {
   "cell_type": "code",
   "execution_count": 72,
   "id": "64443caa",
   "metadata": {},
   "outputs": [],
   "source": [
    "from pydash import from_pairs, map_values"
   ]
  },
  {
   "cell_type": "code",
   "execution_count": 164,
   "id": "e3866efa",
   "metadata": {},
   "outputs": [],
   "source": [
    "input_text = \"\"\"Game 1: 3 blue, 4 red; 1 red, 2 green, 6 blue; 2 green\n",
    "Game 2: 1 blue, 2 green; 3 green, 4 blue, 1 red; 1 green, 1 blue\n",
    "Game 3: 8 green, 6 blue, 20 red; 5 blue, 4 red, 13 green; 5 green, 1 red\n",
    "Game 4: 1 green, 3 red, 6 blue; 3 green, 6 red; 3 green, 15 blue, 14 red\n",
    "Game 5: 6 red, 1 blue, 3 green; 2 blue, 1 red, 2 green\"\"\"\n",
    "lines = input_text.split(\"\\n\")"
   ]
  },
  {
   "cell_type": "code",
   "execution_count": 200,
   "id": "02135c99",
   "metadata": {},
   "outputs": [],
   "source": [
    "with open(\"input.txt\") as f:\n",
    "    input_text = f.read()\n",
    "lines = input_text.split(\"\\n\")"
   ]
  },
  {
   "cell_type": "code",
   "execution_count": null,
   "id": "a9304d03",
   "metadata": {},
   "outputs": [],
   "source": []
  },
  {
   "cell_type": "code",
   "execution_count": 207,
   "id": "c3dfa6e8",
   "metadata": {},
   "outputs": [
    {
     "data": {
      "text/plain": [
       "2439"
      ]
     },
     "execution_count": 207,
     "metadata": {},
     "output_type": "execute_result"
    }
   ],
   "source": [
    "# Part 1\n",
    "max_map = {'red': 12, 'green': 13, 'blue': 14}\n",
    "\n",
    "def line_to_ball_lists(line):\n",
    "    # turn the input line into ['3 blue', '4 red']\n",
    "    return map(lambda handful: handful.split(\", \"), line[line.find(\":\")+2:].split(\";\"))\n",
    "\n",
    "def ball_list_to_set(blist):\n",
    "    # turn ['3 blue', '4 red'] into {'blue': 3, 'red': 4}\n",
    "    ball_set = from_pairs(map(lambda balls: reversed(balls.strip().split(' ')), blist))\n",
    "    return map_values(ball_set, int)\n",
    "\n",
    "def is_possible_map(map1):\n",
    "    return all(map1.get(color, 0) <= max_map[color] for color in max_map.keys())\n",
    "\n",
    "def is_possible_maps(maps):\n",
    "    return all(is_possible_map(mapp) for mapp in maps)\n",
    "\n",
    "def is_possible_line(line):\n",
    "    if not line:\n",
    "        return 0\n",
    "    game_num = int(re.match(\"Game (\\d+):\", line).groups()[0])\n",
    "    ball_lists = line_to_ball_lists(line)\n",
    "    ball_maps = map(ball_list_to_set, ball_lists)\n",
    "    if is_possible_maps(ball_maps):\n",
    "        return game_num\n",
    "    return 0\n",
    "\n",
    "sum(map(is_possible_line, lines))"
   ]
  },
  {
   "cell_type": "code",
   "execution_count": 208,
   "id": "eb7c7612",
   "metadata": {},
   "outputs": [
    {
     "data": {
      "text/plain": [
       "63711"
      ]
     },
     "execution_count": 208,
     "metadata": {},
     "output_type": "execute_result"
    }
   ],
   "source": [
    "# Part 2\n",
    "from functools import reduce\n",
    "colors = ['red', 'blue', 'green']\n",
    "def line_to_ball_lists(line):\n",
    "    # turn the input line into ['3 blue', '4 red']\n",
    "    return map(lambda handful: handful.split(\", \"), line[line.find(\":\")+2:].split(\";\"))\n",
    "\n",
    "def ball_list_to_set(blist):\n",
    "    # turn ['3 blue', '4 red'] into {'blue': 3, 'red': 4}\n",
    "    ball_set = from_pairs(map(lambda balls: reversed(balls.strip().split(' ')), blist))\n",
    "    return map_values(ball_set, int)\n",
    "\n",
    "def get_compared_map(map1, map2):\n",
    "    return {color: max(map1.get(color, 0), map2.get(color, 0)) for color in colors}\n",
    "\n",
    "def get_power(line):\n",
    "    if not line:\n",
    "        return 0\n",
    "    game_num = int(re.match(\"Game (\\d+):\", line).groups()[0])\n",
    "    ball_lists = line_to_ball_lists(line)\n",
    "    ball_maps = [ball_list_to_set(blist) for blist in ball_lists]\n",
    "    min_set = {'red': 0, 'green': 0, 'blue': 0}\n",
    "    min_set = reduce(get_compared_map, ball_maps, min_set)\n",
    "    return min_set['red'] * min_set['blue'] * min_set['green']\n",
    "    \n",
    "\n",
    "sum(map(get_power, lines))"
   ]
  }
 ],
 "metadata": {
  "kernelspec": {
   "display_name": "Python 3 (ipykernel)",
   "language": "python",
   "name": "python3"
  },
  "language_info": {
   "codemirror_mode": {
    "name": "ipython",
    "version": 3
   },
   "file_extension": ".py",
   "mimetype": "text/x-python",
   "name": "python",
   "nbconvert_exporter": "python",
   "pygments_lexer": "ipython3",
   "version": "3.10.9"
  }
 },
 "nbformat": 4,
 "nbformat_minor": 5
}
